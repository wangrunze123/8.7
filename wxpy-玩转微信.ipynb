{
 "cells": [
  {
   "cell_type": "code",
   "execution_count": 1,
   "metadata": {},
   "outputs": [
    {
     "name": "stdout",
     "output_type": "stream",
     "text": [
      "█\r"
     ]
    },
    {
     "name": "stderr",
     "output_type": "stream",
     "text": [
      "Getting uuid of QR code.\n",
      "Downloading QR code.\n",
      "Please scan the QR code to log in.\n",
      "Please press confirm on your phone.\n",
      "Loading the contact, this may take a little while.\n",
      "Login successfully as 王哈哈💨\n",
      "LOG OUT!\n"
     ]
    }
   ],
   "source": [
    "# 导入模块\n",
    "from wxpy import *\n",
    "# 初始化机器人，扫码登陆\n",
    "bot = Bot()\n",
    "# 搜索名称含有 \"游否\" 的男性深圳好友\n",
    "my_friend = bot.friends()"
   ]
  },
  {
   "cell_type": "code",
   "execution_count": 2,
   "metadata": {},
   "outputs": [
    {
     "name": "stderr",
     "output_type": "stream",
     "text": [
      "Getting uuid of QR code.\n",
      "Downloading QR code.\n",
      "Please scan the QR code to log in.\n",
      "Please press confirm on your phone.\n",
      "Loading the contact, this may take a little while.\n",
      "Login successfully as 王哈哈💨\n"
     ]
    },
    {
     "name": "stdout",
     "output_type": "stream",
     "text": [
      "[<Friend: 王哈哈💨>, <Friend: 小矮子！>, <Friend: A.我的妈啊<span class=\"emoji emoji1f49e\"></span>>, <Friend: 🌻瑶哥7号店（本人）不闲聊>, <Friend: 🌻>, <Friend: 木木>, <Friend: 远方、>, <Friend: 范范>, <Friend: sunny>, <Friend: 。。。>, <Friend: 来自台湾的懒熊良品>, <Friend: 霍林西山香网销部>, <Friend: A售后客服B>, <Friend: A售后客服C>, <Friend: 西米>, <Friend: 礼礼studio | 四号店>, <Friend: 小萨>, <Friend: 燕儿姐四号店>, <Friend: 贝尔洁面仪（晚上8点半下班）>, <Friend: 燕儿姐一号店>, <Friend: 泡泡2>, <Friend: 周超>, <Friend: 果果🍑总店>, <Friend: 橙酱Deok2>, <Friend: 胖妹妹2号店>, <Friend: 双酷电器客服小仙女>, <Friend: 我是炮哥🎈 螺蛳粉13店>, <Friend: xck支持一件代发>, <Friend: A...小珂美妆只售正品>, <Friend: 潇洒lindlook>, <Friend: S'>, <Friend: 15统计崔志夫>, <Friend: 微女神国际客服2>, <Friend: 大珂家3号店>, <Friend: 做我的狗>, <Friend: 大金金金（9号店）>, <Friend: Skunk>, <Friend: 荣妹1⃣（咨询先看朋友圈）>, <Friend: 💪>, <Friend: SYJ>, <Friend: 老边饺子馆15849673556>, <Friend: 小石头>, <Friend: XxxiaoKeAi>, <Friend: 离殇>, <Friend: 英国代购城>, <Friend: 台代>, <Friend: 王小迪三号店客服店支付宝收款>, <Friend: The clever rabbit <span class=\"emoji emoji1f430\"></span>>, <Friend: Bigger纯银💍1号店（已满）>, <Friend: 李明胜>, <Friend: AA👄👄园子美甲💅美睫>, <Friend: 洋篮子.全球优选生活馆>, <Friend: nannan10(人满+17603098551>, <Friend: 婷婷海鲜4>, <Friend: A koko（招网拍模特）>, <Friend: 阿黑杂货铺呀～>, <Friend: 🍾平蛋全球Go🥚不在线>, <Friend: 阿黑呀😜>, <Friend: 丛玉婵老师>, <Friend: 毛立双>, <Friend: 孙逸晨>, <Friend: 马思远>, <Friend: x.m>, <Friend: 婷姐5号🌺【客服号】>, <Friend: 段佳康>, <Friend: 代购小店（微信不收款）>, <Friend: a💞🏩华一邵戎医疗美容外科🏩>, <Friend: 妮可-自然旋律护肤导师>, <Friend: 曹阳>, <Friend: 王晓萌>, <Friend: 张娇娇>, <Friend: 焦晨旭>, <Friend: 邢正如>, <Friend: 鹿哥哥美食5号店>, <Friend: 石磊>, <Friend: 杨单纯2号店铺🎀>, <Friend: 曹雅静>, <Friend: Aggie🖤>, <Friend: 袁帅>, <Friend: 成君>, <Friend: 凤爪姐姐20店>, <Friend: 辰大2号🔥专注扶持小白>, <Friend: 小姐姐>, <Friend: 公主小叮当>, <Friend: 多多>, <Friend: xun育新>, <Friend: 周轩扬>, <Friend: 曹雪梅创新培训15247023691>, <Friend: 贺娜>, <Friend: 王影>, <Friend: A娜米奇精致烫染&amp;美甲💅🏻>, <Friend: 粉红少女梦>, <Friend: 烦人果>, <Friend: 百信旅游  |  格日乐图>, <Friend: 刘雨晶>, <Friend: 刘好看>, <Friend: 宇女士Maia清颜中药祛痘>, <Friend: 石漫雨>, <Friend: 孙瑞阳>, <Friend: 张龙宇>, <Friend: 摄像师🎥 莹>, <Friend: 李园媛>, <Friend: 南昌炮弹，高级私人教练>, <Friend: 郭志颖>, <Friend: 林不易_>, <Friend: 代行强>, <Friend: sodu小乔1>, <Friend: 沈八岁鞋子铺2号（可花呗)>, <Friend: A小小爱穿搭💓2号店>, <Friend: 唐潮>, <Friend: 晴晴潮衣阁16号店>, <Friend: 土豆蒸饺>, <Friend: 北北ෆ1号💛不听语音>, <Friend: 贺宏>, <Friend: 斑马.>, <Friend: 梁云鹏>, <Friend: 王小鸥<span class=\"emoji emoji1f43d\"></span>>, <Friend: 胡诗文>, <Friend: aooo大洁134（限老顾客）>, <Friend: A.VIP💃 studio.>, <Friend: 睫美秀MIQIAN-鑫哥3号店 支持花呗>, <Friend: aHying<span class=\"emoji emoji2764\"></span>6.8>, <Friend: 满洲里电音节>, <Friend: 田成>, <Friend: 宝艳蕾>, <Friend: 杨超老师（企业）>, <Friend: 刘静>, <Friend: cyr阳>, <Friend: INS·>, <Friend: Wwww>, <Friend: 高亚男>, <Friend: サ|ジ >, <Friend: 张佳彤>, <Friend: 奈奈子>, <Friend: 徐婷婷>, <Friend: Lonely patient>, <Friend: 一刻达快递代取>, <Friend: 杨宁>, <Friend: 🐳 海豚>, <Friend: 暂时不接单>, <Friend: 🌸伊伊🌸>, <Friend: 王海轩>, <Friend: 创新教育、创新代理记账>, <Friend: 刘大宝是个小可爱>, <Friend: 神朵美容>, <Friend: 小奶2👗招代理>, <Friend: 你手心的温度>, <Friend: 刘宁>, <Friend: 罗广峰>, <Friend: Caroline®创始人CEO💎唐伊琳>, <Friend: 。>, <Friend: 废柴又来了.NO4>, <Friend: Halona🐳>, <Friend: AA怪力狒狒台灣購>, <Friend: 雷迪森梁正>, <Friend: 咚董咚>, <Friend: 玥啊🌛>, <Friend: 会计老师>, <Friend: Mark.z>, <Friend: 🌸 Sandra.韩>, <Friend: 徐小仙iii💓壁纸💚分享💙>, <Friend: 小完子>, <Friend: 袁婷>, <Friend: 灰猴>, <Friend: 🤔>, <Friend: 范安荣>, <Friend: 春宇>, <Friend: 样多多~美丽小铺>, <Friend: 💋 珊珊💋>, <Friend: 蓝精灵>, <Friend: Ym～>, <Friend: Tingzhengjing>, <Friend: Rohee>, <Friend: 互联网+李天宇>, <Friend: yitegele>, <Friend: 王天祺>, <Friend: 刘镓昕>, <Friend: 东湖川天椒>, <Friend: 王涵>, <Friend: 吴翠红>, <Friend: YM小可爱>, <Friend: 逗逗²⁰¹⁹🌟要努力>, <Friend: ᠵᠣᠥ ᠵᠢᠥ>, <Friend: 李秉哲>, <Friend: 苕粉>, <Friend: 噗呲>, <Friend: 飘洋过海15024823717>, <Friend: 麻豆>, <Friend: 付喆宣>, <Friend: Fighting>, <Friend: 郁金香>, <Friend: 💯>, <Friend: 三姑>, <Friend: 老舅妈>, <Friend: 安永红>, <Friend: 秋实姐>, <Friend: 王晶姐>, <Friend: 大姨>, <Friend: 社区陈姨>, <Friend: A.我爸>, <Friend: 教练>, <Friend: 老姑>, <Friend: 老舅>, <Friend: 老姨>, <Friend: 崔宁姐<span class=\"emoji emoji1f483\"></span>>, <Friend: 思敏姐>, <Friend: 六姑>, <Friend: 老舅>, <Friend: 露露姐>, <Friend: 刘思鱼>, <Friend: 刘绪哲>, <Friend: 刘哲>, <Friend: 陈凯旋>, <Friend: 宝音敖>, <Friend: 李柚橙>, <Friend: 邹宗延>, <Friend: 周博>, <Friend: 韩星>, <Friend: 周文一>, <Friend: 李桂杰姨>, <Friend: 航盖哥>, <Friend: 胡旺>, <Friend: 班任>, <Friend: 高山流水>, <Friend: 港代>, <Friend: May6>, <Friend: 奶哥的甜品🍰二号店>, <Friend: 我是小晴啊>, <Friend: 流量>, <Friend: EmmaMiaozi>, <Friend: 兴安盟新途径（四）>, <Friend: 王玉娇>, <Friend: 大头慧慧呀！>, <Friend: 夜间出没(Bai的三号店)>, <Friend: a傻狗<span class=\"emoji emoji1f436\"></span>12.5>, <Friend: 于天琪>, <Friend: 第8街区真人密室逃脱>, <Friend: 刘威>, <Friend: 李丽丽>, <Friend: 非凡影楼13948629684>, <Friend: 善.>, <Friend: 环岛日记>, <Friend: 星程装饰 为生活点缀>, <Friend: 李秉翰>, <Friend: 郭慧敏>, <Friend: 计欣茹>, <Friend: 🐳>, <Friend: 魏云娜>, <Friend: 周彤>, <Friend: 李颖超>, <Friend: 淞子>, <Friend: 史娇娇>, <Friend: 丛婷婷>, <Friend: Ashley💙>, <Friend: 黎笙>, <Friend: 赵昀>, <Friend: 二姑>, <Friend: 张丽芳>, <Friend: 李东生>, <Friend: 袁思敏>, <Friend: 小欠<span class=\"emoji emoji1f414\"></span>>, <Friend: 葛秀敏>, <Friend: 刘琳>, <Friend: 水果超市>, <Friend: 【VE】>, <Friend: a琦琦<span class=\"emoji emoji1f43d\"></span>11.11>, <Friend: 队友选错人或出错牌，我直接杀。>, <Friend: Rita正品代购>, <Friend: 不是安琪拉_->, <Friend: 芭莎廊 （原美界阿辉）>, <Friend: 华汇c042嘿店>, <Friend: 五四>, <Friend: 可乐少女>, <Friend: 医美面膜>, <Friend: 阿诗诗诗>, <Friend: 秋蕊.>, <Friend: INS·品牌店>, <Friend: ->, <Friend: 王华峰>, <Friend: 趙娅妮_>, <Friend: 东宇美甲>, <Friend: 姬宇飞>, <Friend: 包艳秋>, <Friend: 隋缘超甜0.0>, <Friend: 浅浅的店 | 支持花呗>, <Friend: Anna欧欧💛>, <Friend: 文静>, <Friend: 王雪姐>, <Friend: 大姨夫>, <Friend: 年纪大了需要宠着>, <Friend: 董可心>, <Friend: 丁羊筠>, <Friend: 五姑>, <Friend: 吴曼琳>, <Friend: 鹏鹏哥>, <Friend: -A20返利助手【全网返利最高】>, <Friend: 陈小逼<span class=\"emoji emoji2747\"></span>>, <Friend: A0-0   大橙子🍊>, <Friend: A best 💋华牛！>, <Friend: 陌千>, <Friend: 陆晓茜>, <Friend: 🌫>, <Friend: 女装店>, <Friend: 十月 (在线-）>, <Friend: 小东东呀>, <Friend: 曹同学🍓>, <Friend: 丰兄>, <Friend: 王星>, <Friend: 梧双>, <Friend: 赵庆宇>, <Friend: 罗丹>, <Friend: 一一布丁>, <Friend: 王海连>, <Friend: A 任小花🌸>, <Friend: 暴躁老柏在线抢钱 (二号店)>, <Friend: 020C9->, <Friend: 韩心慈>, <Friend: 李苏原>, <Friend: 回族姑娘&amp;名爵健身俱乐部>, <Friend: 简单>, <Friend: 张海慧>, <Friend: Dan.>, <Friend: 吕小黑>, <Friend: 梓 珂.>, <Friend: 元气你静a>, <Friend: 王宇哥呀🙈>, <Friend: 朱蕙>, <Friend: 悦容〰9.1飞🇰🇷接预定>, <Friend: 旧荒歌>, <Friend: 杨洋田螺家>, <Friend: 偷吃一口月亮>, <Friend: Baiyan.>, <Friend: 董大姐姐>, <Friend: 🗿>, <Friend: 王冉>, <Friend: ฅ是苏苏呀>, <Friend: 程傲越>, <Friend: A3😘小贝台湾代购（不加屏蔽者）>, <Friend: YOUNG>, <Friend: 马中鹏>, <Friend: 王莹姐>, <Friend: zoetw22>, <Friend: 请开始你的表演>, <Friend: 张雅倩>, <Friend: 王珊>, <Friend: A              🌸>, <Friend: 八九🎈>, <Friend: 周姨>, <Friend: FAN饭桶张>, <Friend: 十柒批发总店>, <Friend: June An🇷🇺安安>, <Friend: A女青在韩🇰🇷12号回🇨🇳>, <Friend: 杨洋珍珠饰品号>, <Friend: 小火车>, <Friend: 三秋朔🐯>, <Friend: AA伢雅1号店（可花呗）>, <Friend: 班班班>, <Friend: 牛肉就是王大胆🌸>, <Friend: 原来是赵倩茹ru>, <Friend: 庞婧琦>, <Friend: 不以为然呢^🌸>, <Friend: 张芮>, <Friend: 小崔>, <Friend: my肉肉代购🌍回复不及时>, <Friend: 嗯。>, <Friend: 王健健>, <Friend: 废柴又来了.NO6>, <Friend: 暖色调*>, <Friend: 张颖>, <Friend: 塔娜>, <Friend: 楚楚save me>, <Friend: 电娃💥>, <Friend: 小邹儿>, <Friend: 快发霉的面包干>, <Friend: 算你是人>]\n"
     ]
    },
    {
     "data": {
      "text/plain": [
       "↪ 小矮子！ : ❥(^_-) (Text)"
      ]
     },
     "execution_count": 2,
     "metadata": {},
     "output_type": "execute_result"
    }
   ],
   "source": [
    "from wxpy import *\n",
    "bot =Bot()\n",
    "my_friend = bot.friends()\n",
    "print(my_friend)\n",
    "my_friend = bot.friends().search('小矮子！')[0]\n",
    "my_friend.send('❥(^_-)')\n",
    "\n"
   ]
  },
  {
   "cell_type": "code",
   "execution_count": 4,
   "metadata": {},
   "outputs": [
    {
     "name": "stdout",
     "output_type": "stream",
     "text": [
      "小矮子！ : [嘿哈] (Text)\n"
     ]
    }
   ],
   "source": [
    "@bot.register()\n",
    "def print_others(msg):\n",
    "    print(msg)\n"
   ]
  },
  {
   "cell_type": "code",
   "execution_count": 6,
   "metadata": {},
   "outputs": [],
   "source": [
    "@bot.register(my_friend)\n",
    "def reply_my_friend(msg):\n",
    "    return '没事别吱声'.format(msg.text, msg.type)\n"
   ]
  },
  {
   "cell_type": "code",
   "execution_count": 7,
   "metadata": {},
   "outputs": [
    {
     "name": "stderr",
     "output_type": "stream",
     "text": [
      "Getting uuid of QR code.\n",
      "Downloading QR code.\n",
      "Please scan the QR code to log in.\n",
      "Please press confirm on your phone.\n",
      "LOG OUT!\n",
      "Loading the contact, this may take a little while.\n",
      "Login successfully as 王哈哈💨\n"
     ]
    },
    {
     "name": "stdout",
     "output_type": "stream",
     "text": [
      "男性好友:25.13%\n",
      "女性好友:61.76%\n",
      "其他:13.10%\n"
     ]
    }
   ],
   "source": [
    "def get_friend_sex(friends):\n",
    "    male=female=other=0\n",
    "    for i in friends[1:]:\n",
    "        sex=i.sex\n",
    "        if sex==1:\n",
    "            male +=1\n",
    "        elif sex==2:\n",
    "            female +=1\n",
    "        else:\n",
    "            other +=1\n",
    "    return male,female,other\n",
    "bot=Bot(cache_path=True)\n",
    "bot.file_helper.send(\"hello world!\")\n",
    "friends=bot.friends()\n",
    "male,female,other=get_friend_sex(friends)\n",
    "total=len(friends[1:])\n",
    "print(\"男性好友:%.2f%%\" % (float(male) / total * 100))\n",
    "print(\"女性好友:%.2f%%\" % (float(female) / total * 100))\n",
    "print(\"其他:%.2f%%\" % (float(other) / total * 100))\n"
   ]
  },
  {
   "cell_type": "code",
   "execution_count": null,
   "metadata": {},
   "outputs": [],
   "source": []
  }
 ],
 "metadata": {
  "kernelspec": {
   "display_name": "Python 3",
   "language": "python",
   "name": "python3"
  },
  "language_info": {
   "codemirror_mode": {
    "name": "ipython",
    "version": 3
   },
   "file_extension": ".py",
   "mimetype": "text/x-python",
   "name": "python",
   "nbconvert_exporter": "python",
   "pygments_lexer": "ipython3",
   "version": "3.7.3"
  }
 },
 "nbformat": 4,
 "nbformat_minor": 2
}
