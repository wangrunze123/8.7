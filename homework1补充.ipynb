{
 "cells": [
  {
   "cell_type": "code",
   "execution_count": 1,
   "metadata": {},
   "outputs": [
    {
     "name": "stdout",
     "output_type": "stream",
     "text": [
      "本金是：2000\n",
      "年利率是：0.03\n",
      "每年的计息周期数是：12\n",
      "存款年限：30\n",
      "1   2060.83\n",
      "2   2123.51\n",
      "3   2188.10\n",
      "4   2254.66\n",
      "5   2323.23\n",
      "6   2393.90\n",
      "7   2466.71\n",
      "8   2541.74\n",
      "9   2619.05\n",
      "10   2698.71\n",
      "11   2780.79\n",
      "12   2865.37\n",
      "13   2952.52\n",
      "14   3042.33\n",
      "15   3134.86\n",
      "16   3230.21\n",
      "17   3328.46\n",
      "18   3429.70\n",
      "19   3534.02\n",
      "20   3641.51\n",
      "21   3752.27\n",
      "22   3866.40\n",
      "23   3984.00\n",
      "24   4105.18\n",
      "25   4230.04\n",
      "26   4358.70\n",
      "27   4491.27\n",
      "28   4627.88\n",
      "29   4768.64\n",
      "30   4913.68\n"
     ]
    }
   ],
   "source": [
    "def future_value(present_value,annual_rate,  periods_per_year,  years):\n",
    "    \n",
    "    for i in range(1,years+1):\n",
    "        rate_per_period = annual_rate / periods_per_year\n",
    "        periods = periods_per_year * i\n",
    "        print('%d   %.2f'% (i,present_value*((1+rate_per_period)**periods))) \n",
    "present_value=int(input('本金是：'))\n",
    "annual_rate=float(input('年利率是：'))\n",
    "periods_per_year=int(input('每年的计息周期数是：'))\n",
    "years=int(input('存款年限：'))\n",
    "future_value(present_value,annual_rate,  periods_per_year,  years)"
   ]
  },
  {
   "cell_type": "code",
   "execution_count": 2,
   "metadata": {},
   "outputs": [
    {
     "name": "stdout",
     "output_type": "stream",
     "text": [
      "请输入第一字符：1\n",
      "请输入第二字符：2\n",
      "请输入每行打印的个数：3\n",
      "1 2 "
     ]
    }
   ],
   "source": [
    "def printchars(c1,c2,n):\n",
    "    count=0\n",
    "    for i in range(ord(c1),ord(c2)+1):\n",
    "        print(chr(i),end=\" \")\n",
    "        count += 1\n",
    "        if count % n == 0:\n",
    "            print()\n",
    "c1=input('请输入第一字符：')\n",
    "c2=input('请输入第二字符：')\n",
    "n=int(input('请输入每行打印的个数：'))\n",
    "printchars(c1,c2,n)"
   ]
  },
  {
   "cell_type": "code",
   "execution_count": 3,
   "metadata": {},
   "outputs": [
    {
     "name": "stdout",
     "output_type": "stream",
     "text": [
      "6 + 3 = 9\n",
      "4 + 5 = 9\n",
      "你赢了\n"
     ]
    }
   ],
   "source": [
    "import random\n",
    "def shaizi():\n",
    "      a=random.choice([1,2,3,4,5,6])\n",
    "      b=random.choice([1,2,3,4,5,6])\n",
    "      if a+b==2 or  a+b==3 or a+b==12:\n",
    "            print('%d + %d = %d' %(a,b,a+b))\n",
    "            print('你输了')\n",
    "      elif a+b==7 or a+b==11:\n",
    "            print('%d + %d = %d' %(a,b,a+b))\n",
    "            print('你赢了')\n",
    "      else:\n",
    "            print('%d + %d = %d' %(a,b,a+b))\n",
    "            c=random.choice([1,2,3,4,5,6])\n",
    "            d=random.choice([1,2,3,4,5,6])\n",
    "            if c+d==7:\n",
    "                  print('%d + %d = %d' %(c,d,c+d))\n",
    "                  print('你输了')\n",
    "            elif c+d==a+b:\n",
    "                  print('%d + %d = %d' %(c,d,c+d))\n",
    "                  print('你赢了')\n",
    "shaizi()"
   ]
  },
  {
   "cell_type": "code",
   "execution_count": 4,
   "metadata": {},
   "outputs": [],
   "source": [
    "import smtplib\n",
    "from email.mime.text import MIMEText\n",
    "from email.utils import formataddr\n",
    "\n",
    "#发送邮件功能\n",
    "def send_mail(send_message_txt,*senders_list,**send_to_people):\n",
    "  flag = True\n",
    "  try:\n",
    "    #编写发送的内容\n",
    "    send_msg = MIMEText(send_message_txt,\"plain\",\"utf-8\")\n",
    "    send_msg[\"From\"] = formataddr([\"发送人姓名\",\"邮箱账号\"])\n",
    "    #f发送人的名单\n",
    "    for sender_name,mail_address in send_to_people.items():\n",
    "      send_msg[\"To\"] = formataddr([sender_name,mail_address])\n",
    "    else:\n",
    "      print(\"添加所有发送人\")\n",
    "    send_msg[\"Subject\"] = \"出现异常的sqlmap文件内容\"\n",
    "    #登录邮箱服务器\n",
    "    send_server = smtplib.SMTP(\"smtp.126.com\",25)\n",
    "    send_server.login(\"登录邮箱账号\",\"邮箱密码\")\n",
    "    #发送邮件\n",
    "    send_server.sendmail(\"zqgcy0808@126.com\",senders_list,send_msg.as_string())\n",
    "    send_server.quit()\n",
    "  except Exception as e:\n",
    "    print(e)\n",
    "    flag = False\n",
    "  return flag"
   ]
  },
  {
   "cell_type": "code",
   "execution_count": null,
   "metadata": {},
   "outputs": [],
   "source": []
  }
 ],
 "metadata": {
  "kernelspec": {
   "display_name": "Python 3",
   "language": "python",
   "name": "python3"
  },
  "language_info": {
   "codemirror_mode": {
    "name": "ipython",
    "version": 3
   },
   "file_extension": ".py",
   "mimetype": "text/x-python",
   "name": "python",
   "nbconvert_exporter": "python",
   "pygments_lexer": "ipython3",
   "version": "3.7.3"
  }
 },
 "nbformat": 4,
 "nbformat_minor": 2
}
