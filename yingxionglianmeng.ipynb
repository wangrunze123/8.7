{
 "cells": [
  {
   "cell_type": "code",
   "execution_count": 1,
   "metadata": {},
   "outputs": [
    {
     "name": "stdout",
     "output_type": "stream",
     "text": [
      "['请选择模式：', '多人', '人机']\n",
      "输入多人\n",
      "选择 多人\n",
      "['请选择人物:', '鲁班', '赵云', '典韦']\n",
      "输入赵云\n",
      "选择 赵云\n",
      "赵云战斗值为15000，防御值为1000\n",
      "人物已确定，系统随机匹配对战玩家\n",
      "匹配对战玩家为 鲁班\n",
      "请输入开始\n",
      "输入开始\n",
      "准备开始游戏\n",
      "正在加载，请耐心等待\n"
     ]
    }
   ],
   "source": [
    "import numpy as np\n",
    "class wzry(object):\n",
    "    def __init__(self):\n",
    "        pass\n",
    "    def dzms(self): \n",
    "        print([\"请选择模式：\",\"多人\",\"人机\"])\n",
    "        res=input(\"输入\")\n",
    "        print(\"选择\",res)\n",
    "        self.res=res\n",
    "    def rwxz(self):\n",
    "        print([\"请选择人物:\",\"鲁班\",\"赵云\",\"典韦\"])\n",
    "        rw=input(\"输入\")\n",
    "        print(\"选择\",rw)\n",
    "        self.rw=rw\n",
    "    def zdl(self):\n",
    "        if self.rw==\"赵云\":\n",
    "            print(\"赵云战斗值为15000，防御值为1000\")\n",
    "        elif self.rw==\"鲁班\":\n",
    "            print(\"典韦战斗值为20000，防御值为1500\")\n",
    "        else:\n",
    "            print(\"鲁班战斗值为18000，防御值为1300\")\n",
    "    def rwqd(self):\n",
    "        print(\"人物已确定，系统随机匹配对战玩家\")\n",
    "        wj=np.random.choice([\"鲁班\",\"赵云\",\"典韦\"])\n",
    "        print(\"匹配对战玩家为\",wj)\n",
    "    def srks(self):\n",
    "        print(\"请输入开始\")\n",
    "        ks=input(\"输入\")\n",
    "        if ks==\"开始\":\n",
    "            print(\"准备开始游戏\")\n",
    "        else:\n",
    "            print(\"请重新输入\")\n",
    "    def jz(self):\n",
    "        print(\"正在加载，请耐心等待\")\n",
    "smy=wzry()\n",
    "smy.dzms()\n",
    "smy.rwxz()\n",
    "smy.zdl()\n",
    "smy.rwqd()\n",
    "smy.srks()\n",
    "smy.jz()"
   ]
  },
  {
   "cell_type": "code",
   "execution_count": null,
   "metadata": {},
   "outputs": [],
   "source": []
  }
 ],
 "metadata": {
  "kernelspec": {
   "display_name": "Python 3",
   "language": "python",
   "name": "python3"
  },
  "language_info": {
   "codemirror_mode": {
    "name": "ipython",
    "version": 3
   },
   "file_extension": ".py",
   "mimetype": "text/x-python",
   "name": "python",
   "nbconvert_exporter": "python",
   "pygments_lexer": "ipython3",
   "version": "3.6.4"
  }
 },
 "nbformat": 4,
 "nbformat_minor": 2
}
