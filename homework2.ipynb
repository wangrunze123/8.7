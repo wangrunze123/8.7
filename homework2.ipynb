{
 "cells": [
  {
   "cell_type": "markdown",
   "metadata": {},
   "source": [
    "·1"
   ]
  },
  {
   "cell_type": "code",
   "execution_count": 2,
   "metadata": {},
   "outputs": [
    {
     "name": "stdout",
     "output_type": "stream",
     "text": [
      "请输入宽：2\n",
      "请输入高：2\n",
      "宽是：2.00,高是：2.00\n",
      "面积是：4.0000\n",
      "周长是：8.0000\n"
     ]
    }
   ],
   "source": [
    "import math\n",
    "class Rectangle(object):\n",
    "    def __init__(self,width,height):\n",
    "        self.width=width\n",
    "        self.height=height\n",
    "        print('宽是：%.2f,高是：%.2f'% (width,height))\n",
    "    def getArea(self):\n",
    "        return self.width*self.height\n",
    "    def getPerimeter(self):\n",
    "        \n",
    "        return 2*(self.width+self.height)\n",
    "if __name__ == \"__main__\":\n",
    "    width=float(input('请输入宽：'))\n",
    "    height=float(input('请输入高：'))\n",
    "    r=Rectangle(width,height)\n",
    "    print('面积是：%.4f'% r.getArea())\n",
    "    print('周长是：%.4f'% r.getPerimeter())"
   ]
  },
  {
   "cell_type": "markdown",
   "metadata": {},
   "source": [
    "·2"
   ]
  },
  {
   "cell_type": "markdown",
   "metadata": {},
   "source": [
    "·3"
   ]
  },
  {
   "cell_type": "code",
   "execution_count": 4,
   "metadata": {},
   "outputs": [
    {
     "name": "stdout",
     "output_type": "stream",
     "text": [
      "选择速度：2\n",
      "on or off4\n",
      "半径是：5\n",
      "颜色是：red\n",
      "MEDIUM\n",
      "关闭\n",
      "5.0\n",
      "red\n"
     ]
    }
   ],
   "source": [
    "class Fan(object):\n",
    "    def __init__(self,speed=1,on=False,r=5,color='blue'):\n",
    "        self.SLOW=1\n",
    "        self.MEDIUM=2\n",
    "        self.FAST=3\n",
    "        self.__speed=int(speed)\n",
    "        self.__on=bool(on)\n",
    "        self.__r=float(r)\n",
    "        self.__color=str(color)       \n",
    "    def prints(self):\n",
    "        if self.__speed==1:\n",
    "            print('SLOW')\n",
    "        elif self.__speed==2:\n",
    "            print('MEDIUM')\n",
    "        elif self.__speed==3:\n",
    "            print('FAST')\n",
    "        if self.__on=='on':\n",
    "            print('打开')\n",
    "        else:\n",
    "            print('关闭')       \n",
    "        print(self.__r)\n",
    "        print(self.__color)\n",
    "if __name__ == \"__main__\":\n",
    "    speed=int(input('选择速度：'))\n",
    "    on=bool(input('on or off'))\n",
    "    r=float(input('半径是：'))\n",
    "    color=str(input('颜色是：'))\n",
    "    fan=Fan(speed,on,r,color)\n",
    "    fan.prints()"
   ]
  },
  {
   "cell_type": "markdown",
   "metadata": {},
   "source": [
    "·4"
   ]
  },
  {
   "cell_type": "code",
   "execution_count": 5,
   "metadata": {},
   "outputs": [
    {
     "name": "stdout",
     "output_type": "stream",
     "text": [
      "请输入边数：3\n",
      "请输入边长：3\n",
      "请输入x轴坐标：4\n",
      "请输入y轴坐标：4\n",
      "周长是:9.0000\n",
      "面积11.6913\n"
     ]
    }
   ],
   "source": [
    "import math\n",
    "\n",
    "class RegularPolygon(object):\n",
    "    def __init__(self,n=3,side=1,x=0,y=0):\n",
    "        self.__n=int(n)\n",
    "        self.__side=float(side)\n",
    "        self.__x=float(x)\n",
    "        self.__y=float(y)\n",
    "    def getPerimetetr(self):\n",
    "        print('周长是:%.4f'% (self.__n*self.__side )) \n",
    "    def getArea(self):\n",
    "        self.s=self.__n*(self.__side**2)/4*math.tan(math.pi/self.__n)\n",
    "        print('面积%.4f'% self.s)\n",
    "if __name__ == \"__main__\":\n",
    "    n=int(input('请输入边数：'))\n",
    "    side=float(input('请输入边长：'))\n",
    "    x=float(input('请输入x轴坐标：'))\n",
    "    y=float(input('请输入y轴坐标：'))\n",
    "    r=RegularPolygon(n,side,x,y)\n",
    "    r.getPerimetetr()\n",
    "    r.getArea()"
   ]
  },
  {
   "cell_type": "markdown",
   "metadata": {},
   "source": [
    "·5"
   ]
  },
  {
   "cell_type": "markdown",
   "metadata": {},
   "source": [
    "·6"
   ]
  },
  {
   "cell_type": "code",
   "execution_count": 7,
   "metadata": {},
   "outputs": [
    {
     "name": "stdout",
     "output_type": "stream",
     "text": [
      "2.0 2.0 0 0\n",
      "0 2.0 2.0 0\n",
      "1.0 1.0\n"
     ]
    }
   ],
   "source": [
    "class zuobao:\n",
    "    def shur(self):\n",
    "        import math      \n",
    "        x1,y1,x2,y2=map(float,input().split())\n",
    "        x3,y3,x4,y4=map(float,input().split())\n",
    "        u1=(x4-x3)*(y1-y3)-(x1-x3)*(y4-y3)\n",
    "        v1=(x4-x3)*(y2-y3)-(x2-x3)*(y4-y3)\n",
    "        u=math.fabs(u1)\n",
    "        v=math.fabs(v1)\n",
    "\n",
    "        x5=(x1*v+x2*u)/(u+v)\n",
    "        y5=(y1*v+y2*u)/(u+v)\n",
    "        print(x5,y5) \n",
    "re=zuobao()\n",
    "re.shur()"
   ]
  },
  {
   "cell_type": "markdown",
   "metadata": {},
   "source": [
    "·7"
   ]
  },
  {
   "cell_type": "code",
   "execution_count": null,
   "metadata": {},
   "outputs": [],
   "source": []
  },
  {
   "cell_type": "code",
   "execution_count": null,
   "metadata": {},
   "outputs": [],
   "source": []
  }
 ],
 "metadata": {
  "kernelspec": {
   "display_name": "Python 3",
   "language": "python",
   "name": "python3"
  },
  "language_info": {
   "codemirror_mode": {
    "name": "ipython",
    "version": 3
   },
   "file_extension": ".py",
   "mimetype": "text/x-python",
   "name": "python",
   "nbconvert_exporter": "python",
   "pygments_lexer": "ipython3",
   "version": "3.6.4"
  }
 },
 "nbformat": 4,
 "nbformat_minor": 2
}
